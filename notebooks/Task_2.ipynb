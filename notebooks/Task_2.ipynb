{
 "cells": [
  {
   "cell_type": "code",
   "execution_count": 1,
   "id": "137addfd",
   "metadata": {},
   "outputs": [],
   "source": [
    "# !/usr/bin/env python3.9\n",
    "# -*- coding: utf-8 -*- \n",
    "#----------------------------------------------------------------------------\n",
    "# Created By  : Sergey Krasnitskii   \n",
    "# Created Date: 03/11/2022 17:20\n",
    "# version ='1.0'\n",
    "\n",
    "import pandas as pd"
   ]
  },
  {
   "cell_type": "markdown",
   "id": "ffafb460",
   "metadata": {},
   "source": [
    "2)Работа с типами данных\n",
    "    \n",
    "a.Прочитать первые 4 столбца файла «2.Data», пропустить при этом первые 3 строчки \n",
    "\n",
    "b.Столбец '№' – преобразовать в тип float\n",
    "\n",
    "c.Столбцы 'дата1' и 'дата2' – преобразовать в формат DateTime\n",
    "\n",
    "d.Создать столбец «дней до сегодня» - считающий кол-во дней от  'дата1' до сегодняшней даты"
   ]
  },
  {
   "cell_type": "code",
   "execution_count": 2,
   "id": "f0d7968d",
   "metadata": {},
   "outputs": [],
   "source": [
    "# 2.Data\n",
    "data_2 = pd.read_excel('..\\\\DATA\\\\2. Data.xlsx',\n",
    "                        usecols = [0, 1, 2, 3],\n",
    "                        index_col=None,\n",
    "                        skiprows=[0, 1, 2])"
   ]
  },
  {
   "cell_type": "code",
   "execution_count": 3,
   "id": "0064b1d6",
   "metadata": {},
   "outputs": [
    {
     "name": "stdout",
     "output_type": "stream",
     "text": [
      "Размер DataFrame: (342, 4)\n"
     ]
    }
   ],
   "source": [
    "print(f'Размер DataFrame: {data_2.shape}')"
   ]
  },
  {
   "cell_type": "code",
   "execution_count": 4,
   "id": "ded8d1ef",
   "metadata": {},
   "outputs": [
    {
     "data": {
      "text/html": [
       "<div>\n",
       "<style scoped>\n",
       "    .dataframe tbody tr th:only-of-type {\n",
       "        vertical-align: middle;\n",
       "    }\n",
       "\n",
       "    .dataframe tbody tr th {\n",
       "        vertical-align: top;\n",
       "    }\n",
       "\n",
       "    .dataframe thead th {\n",
       "        text-align: right;\n",
       "    }\n",
       "</style>\n",
       "<table border=\"1\" class=\"dataframe\">\n",
       "  <thead>\n",
       "    <tr style=\"text-align: right;\">\n",
       "      <th></th>\n",
       "      <th>№</th>\n",
       "      <th>дата1</th>\n",
       "      <th>дата2</th>\n",
       "      <th>текст</th>\n",
       "    </tr>\n",
       "  </thead>\n",
       "  <tbody>\n",
       "    <tr>\n",
       "      <th>0</th>\n",
       "      <td>1797344894</td>\n",
       "      <td>17.05.2021</td>\n",
       "      <td>06.12.2021</td>\n",
       "      <td>MggOIJV4</td>\n",
       "    </tr>\n",
       "    <tr>\n",
       "      <th>1</th>\n",
       "      <td>1206736113</td>\n",
       "      <td>14.04.2021</td>\n",
       "      <td>07.10.2021</td>\n",
       "      <td>KIdSRIUU</td>\n",
       "    </tr>\n",
       "    <tr>\n",
       "      <th>2</th>\n",
       "      <td>1922424045</td>\n",
       "      <td>04.03.2021</td>\n",
       "      <td>09.09.2021</td>\n",
       "      <td>cdO6vlPn</td>\n",
       "    </tr>\n",
       "    <tr>\n",
       "      <th>3</th>\n",
       "      <td>1495231914</td>\n",
       "      <td>13.01.2021</td>\n",
       "      <td>28.06.2021</td>\n",
       "      <td>Y3WsRnNl</td>\n",
       "    </tr>\n",
       "    <tr>\n",
       "      <th>4</th>\n",
       "      <td>1073154291</td>\n",
       "      <td>15.05.2020</td>\n",
       "      <td>14.05.2021</td>\n",
       "      <td>lKhrsle8</td>\n",
       "    </tr>\n",
       "  </tbody>\n",
       "</table>\n",
       "</div>"
      ],
      "text/plain": [
       "            №       дата1       дата2     текст\n",
       "0  1797344894  17.05.2021  06.12.2021  MggOIJV4\n",
       "1  1206736113  14.04.2021  07.10.2021  KIdSRIUU\n",
       "2  1922424045  04.03.2021  09.09.2021  cdO6vlPn\n",
       "3  1495231914  13.01.2021  28.06.2021  Y3WsRnNl\n",
       "4  1073154291  15.05.2020  14.05.2021  lKhrsle8"
      ]
     },
     "execution_count": 4,
     "metadata": {},
     "output_type": "execute_result"
    }
   ],
   "source": [
    "data_2.head()"
   ]
  },
  {
   "cell_type": "code",
   "execution_count": 5,
   "id": "1adceaea",
   "metadata": {},
   "outputs": [
    {
     "data": {
      "text/html": [
       "<div>\n",
       "<style scoped>\n",
       "    .dataframe tbody tr th:only-of-type {\n",
       "        vertical-align: middle;\n",
       "    }\n",
       "\n",
       "    .dataframe tbody tr th {\n",
       "        vertical-align: top;\n",
       "    }\n",
       "\n",
       "    .dataframe thead th {\n",
       "        text-align: right;\n",
       "    }\n",
       "</style>\n",
       "<table border=\"1\" class=\"dataframe\">\n",
       "  <thead>\n",
       "    <tr style=\"text-align: right;\">\n",
       "      <th></th>\n",
       "      <th>№</th>\n",
       "      <th>дата1</th>\n",
       "      <th>дата2</th>\n",
       "      <th>текст</th>\n",
       "    </tr>\n",
       "  </thead>\n",
       "  <tbody>\n",
       "    <tr>\n",
       "      <th>337</th>\n",
       "      <td>1359881107</td>\n",
       "      <td>28.12.2020</td>\n",
       "      <td>08.07.2021</td>\n",
       "      <td>J3HJbRWu</td>\n",
       "    </tr>\n",
       "    <tr>\n",
       "      <th>338</th>\n",
       "      <td>1346543858</td>\n",
       "      <td>20.04.2020</td>\n",
       "      <td>26.09.2020</td>\n",
       "      <td>36tCJnjF</td>\n",
       "    </tr>\n",
       "    <tr>\n",
       "      <th>339</th>\n",
       "      <td>1567045355</td>\n",
       "      <td>19.04.2021</td>\n",
       "      <td>30.10.2021</td>\n",
       "      <td>c9SCWXkJ</td>\n",
       "    </tr>\n",
       "    <tr>\n",
       "      <th>340</th>\n",
       "      <td>1991038164</td>\n",
       "      <td>04.08.2021</td>\n",
       "      <td>14.11.2021</td>\n",
       "      <td>rDCUfVyC</td>\n",
       "    </tr>\n",
       "    <tr>\n",
       "      <th>341</th>\n",
       "      <td>1953016509</td>\n",
       "      <td>12.07.2021</td>\n",
       "      <td>10.05.2022</td>\n",
       "      <td>c59i04Bg</td>\n",
       "    </tr>\n",
       "  </tbody>\n",
       "</table>\n",
       "</div>"
      ],
      "text/plain": [
       "              №       дата1       дата2     текст\n",
       "337  1359881107  28.12.2020  08.07.2021  J3HJbRWu\n",
       "338  1346543858  20.04.2020  26.09.2020  36tCJnjF\n",
       "339  1567045355  19.04.2021  30.10.2021  c9SCWXkJ\n",
       "340  1991038164  04.08.2021  14.11.2021  rDCUfVyC\n",
       "341  1953016509  12.07.2021  10.05.2022  c59i04Bg"
      ]
     },
     "execution_count": 5,
     "metadata": {},
     "output_type": "execute_result"
    }
   ],
   "source": [
    "data_2.tail()"
   ]
  },
  {
   "cell_type": "code",
   "execution_count": 6,
   "id": "ac7d692b",
   "metadata": {},
   "outputs": [
    {
     "name": "stdout",
     "output_type": "stream",
     "text": [
      "<class 'pandas.core.frame.DataFrame'>\n",
      "RangeIndex: 342 entries, 0 to 341\n",
      "Data columns (total 4 columns):\n",
      " #   Column  Non-Null Count  Dtype \n",
      "---  ------  --------------  ----- \n",
      " 0   №       342 non-null    int64 \n",
      " 1   дата1   341 non-null    object\n",
      " 2   дата2   340 non-null    object\n",
      " 3   текст   342 non-null    object\n",
      "dtypes: int64(1), object(3)\n",
      "memory usage: 10.8+ KB\n"
     ]
    }
   ],
   "source": [
    "data_2.info()"
   ]
  },
  {
   "cell_type": "code",
   "execution_count": 7,
   "id": "f9cb87fa",
   "metadata": {},
   "outputs": [
    {
     "name": "stderr",
     "output_type": "stream",
     "text": [
      "C:\\Users\\Сергей\\AppData\\Local\\Temp\\ipykernel_12764\\2903116819.py:2: UserWarning: Parsing dates in DD/MM/YYYY format when dayfirst=False (the default) was specified. This may lead to inconsistently parsed dates! Specify a format to ensure consistent parsing.\n",
      "  data_2['дата1'] = pd.to_datetime(data_2['дата1'])\n",
      "C:\\Users\\Сергей\\AppData\\Local\\Temp\\ipykernel_12764\\2903116819.py:3: UserWarning: Parsing dates in DD/MM/YYYY format when dayfirst=False (the default) was specified. This may lead to inconsistently parsed dates! Specify a format to ensure consistent parsing.\n",
      "  data_2['дата2'] = pd.to_datetime(data_2['дата2'])\n"
     ]
    }
   ],
   "source": [
    "data_2 = data_2.astype({'№': float})\n",
    "data_2['дата1'] = pd.to_datetime(data_2['дата1'])\n",
    "data_2['дата2'] = pd.to_datetime(data_2['дата2'])"
   ]
  },
  {
   "cell_type": "code",
   "execution_count": 8,
   "id": "11028960",
   "metadata": {},
   "outputs": [
    {
     "data": {
      "text/html": [
       "<div>\n",
       "<style scoped>\n",
       "    .dataframe tbody tr th:only-of-type {\n",
       "        vertical-align: middle;\n",
       "    }\n",
       "\n",
       "    .dataframe tbody tr th {\n",
       "        vertical-align: top;\n",
       "    }\n",
       "\n",
       "    .dataframe thead th {\n",
       "        text-align: right;\n",
       "    }\n",
       "</style>\n",
       "<table border=\"1\" class=\"dataframe\">\n",
       "  <thead>\n",
       "    <tr style=\"text-align: right;\">\n",
       "      <th></th>\n",
       "      <th>№</th>\n",
       "      <th>дата1</th>\n",
       "      <th>дата2</th>\n",
       "      <th>текст</th>\n",
       "    </tr>\n",
       "  </thead>\n",
       "  <tbody>\n",
       "    <tr>\n",
       "      <th>0</th>\n",
       "      <td>1.797345e+09</td>\n",
       "      <td>2021-05-17</td>\n",
       "      <td>2021-06-12</td>\n",
       "      <td>MggOIJV4</td>\n",
       "    </tr>\n",
       "    <tr>\n",
       "      <th>1</th>\n",
       "      <td>1.206736e+09</td>\n",
       "      <td>2021-04-14</td>\n",
       "      <td>2021-07-10</td>\n",
       "      <td>KIdSRIUU</td>\n",
       "    </tr>\n",
       "    <tr>\n",
       "      <th>2</th>\n",
       "      <td>1.922424e+09</td>\n",
       "      <td>2021-04-03</td>\n",
       "      <td>2021-09-09</td>\n",
       "      <td>cdO6vlPn</td>\n",
       "    </tr>\n",
       "    <tr>\n",
       "      <th>3</th>\n",
       "      <td>1.495232e+09</td>\n",
       "      <td>2021-01-13</td>\n",
       "      <td>2021-06-28</td>\n",
       "      <td>Y3WsRnNl</td>\n",
       "    </tr>\n",
       "    <tr>\n",
       "      <th>4</th>\n",
       "      <td>1.073154e+09</td>\n",
       "      <td>2020-05-15</td>\n",
       "      <td>2021-05-14</td>\n",
       "      <td>lKhrsle8</td>\n",
       "    </tr>\n",
       "    <tr>\n",
       "      <th>...</th>\n",
       "      <td>...</td>\n",
       "      <td>...</td>\n",
       "      <td>...</td>\n",
       "      <td>...</td>\n",
       "    </tr>\n",
       "    <tr>\n",
       "      <th>337</th>\n",
       "      <td>1.359881e+09</td>\n",
       "      <td>2020-12-28</td>\n",
       "      <td>2021-08-07</td>\n",
       "      <td>J3HJbRWu</td>\n",
       "    </tr>\n",
       "    <tr>\n",
       "      <th>338</th>\n",
       "      <td>1.346544e+09</td>\n",
       "      <td>2020-04-20</td>\n",
       "      <td>2020-09-26</td>\n",
       "      <td>36tCJnjF</td>\n",
       "    </tr>\n",
       "    <tr>\n",
       "      <th>339</th>\n",
       "      <td>1.567045e+09</td>\n",
       "      <td>2021-04-19</td>\n",
       "      <td>2021-10-30</td>\n",
       "      <td>c9SCWXkJ</td>\n",
       "    </tr>\n",
       "    <tr>\n",
       "      <th>340</th>\n",
       "      <td>1.991038e+09</td>\n",
       "      <td>2021-04-08</td>\n",
       "      <td>2021-11-14</td>\n",
       "      <td>rDCUfVyC</td>\n",
       "    </tr>\n",
       "    <tr>\n",
       "      <th>341</th>\n",
       "      <td>1.953017e+09</td>\n",
       "      <td>2021-12-07</td>\n",
       "      <td>2022-10-05</td>\n",
       "      <td>c59i04Bg</td>\n",
       "    </tr>\n",
       "  </tbody>\n",
       "</table>\n",
       "<p>342 rows × 4 columns</p>\n",
       "</div>"
      ],
      "text/plain": [
       "                №      дата1      дата2     текст\n",
       "0    1.797345e+09 2021-05-17 2021-06-12  MggOIJV4\n",
       "1    1.206736e+09 2021-04-14 2021-07-10  KIdSRIUU\n",
       "2    1.922424e+09 2021-04-03 2021-09-09  cdO6vlPn\n",
       "3    1.495232e+09 2021-01-13 2021-06-28  Y3WsRnNl\n",
       "4    1.073154e+09 2020-05-15 2021-05-14  lKhrsle8\n",
       "..            ...        ...        ...       ...\n",
       "337  1.359881e+09 2020-12-28 2021-08-07  J3HJbRWu\n",
       "338  1.346544e+09 2020-04-20 2020-09-26  36tCJnjF\n",
       "339  1.567045e+09 2021-04-19 2021-10-30  c9SCWXkJ\n",
       "340  1.991038e+09 2021-04-08 2021-11-14  rDCUfVyC\n",
       "341  1.953017e+09 2021-12-07 2022-10-05  c59i04Bg\n",
       "\n",
       "[342 rows x 4 columns]"
      ]
     },
     "execution_count": 8,
     "metadata": {},
     "output_type": "execute_result"
    }
   ],
   "source": [
    "data_2"
   ]
  },
  {
   "cell_type": "code",
   "execution_count": 9,
   "id": "7909eb99",
   "metadata": {},
   "outputs": [
    {
     "name": "stdout",
     "output_type": "stream",
     "text": [
      "<class 'pandas.core.frame.DataFrame'>\n",
      "RangeIndex: 342 entries, 0 to 341\n",
      "Data columns (total 4 columns):\n",
      " #   Column  Non-Null Count  Dtype         \n",
      "---  ------  --------------  -----         \n",
      " 0   №       342 non-null    float64       \n",
      " 1   дата1   341 non-null    datetime64[ns]\n",
      " 2   дата2   340 non-null    datetime64[ns]\n",
      " 3   текст   342 non-null    object        \n",
      "dtypes: datetime64[ns](2), float64(1), object(1)\n",
      "memory usage: 10.8+ KB\n"
     ]
    }
   ],
   "source": [
    "data_2.info()"
   ]
  },
  {
   "cell_type": "code",
   "execution_count": 10,
   "id": "b224dbbe",
   "metadata": {},
   "outputs": [],
   "source": [
    "data_2['Days until now'] = pd.to_datetime(\"today\") - data_2['дата1']"
   ]
  },
  {
   "cell_type": "code",
   "execution_count": 11,
   "id": "a3ab90dc",
   "metadata": {},
   "outputs": [
    {
     "data": {
      "text/html": [
       "<div>\n",
       "<style scoped>\n",
       "    .dataframe tbody tr th:only-of-type {\n",
       "        vertical-align: middle;\n",
       "    }\n",
       "\n",
       "    .dataframe tbody tr th {\n",
       "        vertical-align: top;\n",
       "    }\n",
       "\n",
       "    .dataframe thead th {\n",
       "        text-align: right;\n",
       "    }\n",
       "</style>\n",
       "<table border=\"1\" class=\"dataframe\">\n",
       "  <thead>\n",
       "    <tr style=\"text-align: right;\">\n",
       "      <th></th>\n",
       "      <th>№</th>\n",
       "      <th>дата1</th>\n",
       "      <th>дата2</th>\n",
       "      <th>текст</th>\n",
       "      <th>Days until now</th>\n",
       "    </tr>\n",
       "  </thead>\n",
       "  <tbody>\n",
       "    <tr>\n",
       "      <th>0</th>\n",
       "      <td>1.797345e+09</td>\n",
       "      <td>2021-05-17</td>\n",
       "      <td>2021-06-12</td>\n",
       "      <td>MggOIJV4</td>\n",
       "      <td>535 days 17:01:48.827990</td>\n",
       "    </tr>\n",
       "    <tr>\n",
       "      <th>1</th>\n",
       "      <td>1.206736e+09</td>\n",
       "      <td>2021-04-14</td>\n",
       "      <td>2021-07-10</td>\n",
       "      <td>KIdSRIUU</td>\n",
       "      <td>568 days 17:01:48.827990</td>\n",
       "    </tr>\n",
       "    <tr>\n",
       "      <th>2</th>\n",
       "      <td>1.922424e+09</td>\n",
       "      <td>2021-04-03</td>\n",
       "      <td>2021-09-09</td>\n",
       "      <td>cdO6vlPn</td>\n",
       "      <td>579 days 17:01:48.827990</td>\n",
       "    </tr>\n",
       "    <tr>\n",
       "      <th>3</th>\n",
       "      <td>1.495232e+09</td>\n",
       "      <td>2021-01-13</td>\n",
       "      <td>2021-06-28</td>\n",
       "      <td>Y3WsRnNl</td>\n",
       "      <td>659 days 17:01:48.827990</td>\n",
       "    </tr>\n",
       "    <tr>\n",
       "      <th>4</th>\n",
       "      <td>1.073154e+09</td>\n",
       "      <td>2020-05-15</td>\n",
       "      <td>2021-05-14</td>\n",
       "      <td>lKhrsle8</td>\n",
       "      <td>902 days 17:01:48.827990</td>\n",
       "    </tr>\n",
       "    <tr>\n",
       "      <th>...</th>\n",
       "      <td>...</td>\n",
       "      <td>...</td>\n",
       "      <td>...</td>\n",
       "      <td>...</td>\n",
       "      <td>...</td>\n",
       "    </tr>\n",
       "    <tr>\n",
       "      <th>337</th>\n",
       "      <td>1.359881e+09</td>\n",
       "      <td>2020-12-28</td>\n",
       "      <td>2021-08-07</td>\n",
       "      <td>J3HJbRWu</td>\n",
       "      <td>675 days 17:01:48.827990</td>\n",
       "    </tr>\n",
       "    <tr>\n",
       "      <th>338</th>\n",
       "      <td>1.346544e+09</td>\n",
       "      <td>2020-04-20</td>\n",
       "      <td>2020-09-26</td>\n",
       "      <td>36tCJnjF</td>\n",
       "      <td>927 days 17:01:48.827990</td>\n",
       "    </tr>\n",
       "    <tr>\n",
       "      <th>339</th>\n",
       "      <td>1.567045e+09</td>\n",
       "      <td>2021-04-19</td>\n",
       "      <td>2021-10-30</td>\n",
       "      <td>c9SCWXkJ</td>\n",
       "      <td>563 days 17:01:48.827990</td>\n",
       "    </tr>\n",
       "    <tr>\n",
       "      <th>340</th>\n",
       "      <td>1.991038e+09</td>\n",
       "      <td>2021-04-08</td>\n",
       "      <td>2021-11-14</td>\n",
       "      <td>rDCUfVyC</td>\n",
       "      <td>574 days 17:01:48.827990</td>\n",
       "    </tr>\n",
       "    <tr>\n",
       "      <th>341</th>\n",
       "      <td>1.953017e+09</td>\n",
       "      <td>2021-12-07</td>\n",
       "      <td>2022-10-05</td>\n",
       "      <td>c59i04Bg</td>\n",
       "      <td>331 days 17:01:48.827990</td>\n",
       "    </tr>\n",
       "  </tbody>\n",
       "</table>\n",
       "<p>342 rows × 5 columns</p>\n",
       "</div>"
      ],
      "text/plain": [
       "                №      дата1      дата2     текст           Days until now\n",
       "0    1.797345e+09 2021-05-17 2021-06-12  MggOIJV4 535 days 17:01:48.827990\n",
       "1    1.206736e+09 2021-04-14 2021-07-10  KIdSRIUU 568 days 17:01:48.827990\n",
       "2    1.922424e+09 2021-04-03 2021-09-09  cdO6vlPn 579 days 17:01:48.827990\n",
       "3    1.495232e+09 2021-01-13 2021-06-28  Y3WsRnNl 659 days 17:01:48.827990\n",
       "4    1.073154e+09 2020-05-15 2021-05-14  lKhrsle8 902 days 17:01:48.827990\n",
       "..            ...        ...        ...       ...                      ...\n",
       "337  1.359881e+09 2020-12-28 2021-08-07  J3HJbRWu 675 days 17:01:48.827990\n",
       "338  1.346544e+09 2020-04-20 2020-09-26  36tCJnjF 927 days 17:01:48.827990\n",
       "339  1.567045e+09 2021-04-19 2021-10-30  c9SCWXkJ 563 days 17:01:48.827990\n",
       "340  1.991038e+09 2021-04-08 2021-11-14  rDCUfVyC 574 days 17:01:48.827990\n",
       "341  1.953017e+09 2021-12-07 2022-10-05  c59i04Bg 331 days 17:01:48.827990\n",
       "\n",
       "[342 rows x 5 columns]"
      ]
     },
     "execution_count": 11,
     "metadata": {},
     "output_type": "execute_result"
    }
   ],
   "source": [
    "data_2"
   ]
  },
  {
   "cell_type": "code",
   "execution_count": 12,
   "id": "4902b54e",
   "metadata": {},
   "outputs": [
    {
     "name": "stdout",
     "output_type": "stream",
     "text": [
      "<class 'pandas.core.frame.DataFrame'>\n",
      "RangeIndex: 342 entries, 0 to 341\n",
      "Data columns (total 5 columns):\n",
      " #   Column          Non-Null Count  Dtype          \n",
      "---  ------          --------------  -----          \n",
      " 0   №               342 non-null    float64        \n",
      " 1   дата1           341 non-null    datetime64[ns] \n",
      " 2   дата2           340 non-null    datetime64[ns] \n",
      " 3   текст           342 non-null    object         \n",
      " 4   Days until now  341 non-null    timedelta64[ns]\n",
      "dtypes: datetime64[ns](2), float64(1), object(1), timedelta64[ns](1)\n",
      "memory usage: 13.5+ KB\n"
     ]
    }
   ],
   "source": [
    "data_2.info()"
   ]
  },
  {
   "cell_type": "code",
   "execution_count": 13,
   "id": "708299d8",
   "metadata": {},
   "outputs": [],
   "source": [
    "# Задание 2 выполнено"
   ]
  }
 ],
 "metadata": {
  "kernelspec": {
   "display_name": "Python 3 (ipykernel)",
   "language": "python",
   "name": "python3"
  },
  "language_info": {
   "codemirror_mode": {
    "name": "ipython",
    "version": 3
   },
   "file_extension": ".py",
   "mimetype": "text/x-python",
   "name": "python",
   "nbconvert_exporter": "python",
   "pygments_lexer": "ipython3",
   "version": "3.9.13"
  }
 },
 "nbformat": 4,
 "nbformat_minor": 5
}
